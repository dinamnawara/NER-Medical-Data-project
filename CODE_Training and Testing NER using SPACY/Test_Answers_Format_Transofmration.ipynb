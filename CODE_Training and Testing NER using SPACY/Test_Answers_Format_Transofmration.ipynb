{
  "nbformat": 4,
  "nbformat_minor": 0,
  "metadata": {
    "colab": {
      "provenance": []
    },
    "kernelspec": {
      "name": "python3",
      "display_name": "Python 3"
    },
    "language_info": {
      "name": "python"
    }
  },
  "cells": [
    {
      "cell_type": "code",
      "execution_count": 8,
      "metadata": {
        "id": "s8nRJ0rS05eR"
      },
      "outputs": [],
      "source": [
        "import pandas as pd\n",
        "import ast"
      ]
    },
    {
      "cell_type": "code",
      "source": [
        "df = pd.read_csv('/content/test_with_entities_NER_spacy.csv')"
      ],
      "metadata": {
        "id": "3YAx7VPY1CQJ"
      },
      "execution_count": 32,
      "outputs": []
    },
    {
      "cell_type": "code",
      "source": [
        "df.head()"
      ],
      "metadata": {
        "colab": {
          "base_uri": "https://localhost:8080/",
          "height": 206
        },
        "id": "fb7oJ7Ls1GoZ",
        "outputId": "7c51de33-b7ca-4458-dda4-1c380600993a"
      },
      "execution_count": 60,
      "outputs": [
        {
          "output_type": "execute_result",
          "data": {
            "text/plain": [
              "   Unnamed: 0                                               text  \\\n",
              "0        4159  Has failed trials of enbrel and methotrexate d...   \n",
              "1        4617  7. Multivitamin  Oral 8. Aspirin 81 mg Tablet,...   \n",
              "2        1687  His HR did not respond to Diltiazem drip or mu...   \n",
              "3        3468  Evaluated by neurosurgery who would not interv...   \n",
              "4         126  He was on a bowel regimen of Colace and Dulcol...   \n",
              "\n",
              "                                              answer  \n",
              "0                               {'DRUG': ['enbrel']}  \n",
              "1  {'DRUG': ['Multivitamin', 'Aspirin'], 'ROUTE':...  \n",
              "2  {'DRUG': ['Diltiazem', 'Diltiazem', 'Metoprolo...  \n",
              "3                          {'DRUG': ['antibiotics']}  \n",
              "4                   {'DRUG': ['Colace', 'Dulcolax']}  "
            ],
            "text/html": [
              "\n",
              "  <div id=\"df-21095372-83da-4b28-a077-2d4e747bb925\" class=\"colab-df-container\">\n",
              "    <div>\n",
              "<style scoped>\n",
              "    .dataframe tbody tr th:only-of-type {\n",
              "        vertical-align: middle;\n",
              "    }\n",
              "\n",
              "    .dataframe tbody tr th {\n",
              "        vertical-align: top;\n",
              "    }\n",
              "\n",
              "    .dataframe thead th {\n",
              "        text-align: right;\n",
              "    }\n",
              "</style>\n",
              "<table border=\"1\" class=\"dataframe\">\n",
              "  <thead>\n",
              "    <tr style=\"text-align: right;\">\n",
              "      <th></th>\n",
              "      <th>Unnamed: 0</th>\n",
              "      <th>text</th>\n",
              "      <th>answer</th>\n",
              "    </tr>\n",
              "  </thead>\n",
              "  <tbody>\n",
              "    <tr>\n",
              "      <th>0</th>\n",
              "      <td>4159</td>\n",
              "      <td>Has failed trials of enbrel and methotrexate d...</td>\n",
              "      <td>{'DRUG': ['enbrel']}</td>\n",
              "    </tr>\n",
              "    <tr>\n",
              "      <th>1</th>\n",
              "      <td>4617</td>\n",
              "      <td>7. Multivitamin  Oral 8. Aspirin 81 mg Tablet,...</td>\n",
              "      <td>{'DRUG': ['Multivitamin', 'Aspirin'], 'ROUTE':...</td>\n",
              "    </tr>\n",
              "    <tr>\n",
              "      <th>2</th>\n",
              "      <td>1687</td>\n",
              "      <td>His HR did not respond to Diltiazem drip or mu...</td>\n",
              "      <td>{'DRUG': ['Diltiazem', 'Diltiazem', 'Metoprolo...</td>\n",
              "    </tr>\n",
              "    <tr>\n",
              "      <th>3</th>\n",
              "      <td>3468</td>\n",
              "      <td>Evaluated by neurosurgery who would not interv...</td>\n",
              "      <td>{'DRUG': ['antibiotics']}</td>\n",
              "    </tr>\n",
              "    <tr>\n",
              "      <th>4</th>\n",
              "      <td>126</td>\n",
              "      <td>He was on a bowel regimen of Colace and Dulcol...</td>\n",
              "      <td>{'DRUG': ['Colace', 'Dulcolax']}</td>\n",
              "    </tr>\n",
              "  </tbody>\n",
              "</table>\n",
              "</div>\n",
              "    <div class=\"colab-df-buttons\">\n",
              "\n",
              "  <div class=\"colab-df-container\">\n",
              "    <button class=\"colab-df-convert\" onclick=\"convertToInteractive('df-21095372-83da-4b28-a077-2d4e747bb925')\"\n",
              "            title=\"Convert this dataframe to an interactive table.\"\n",
              "            style=\"display:none;\">\n",
              "\n",
              "  <svg xmlns=\"http://www.w3.org/2000/svg\" height=\"24px\" viewBox=\"0 -960 960 960\">\n",
              "    <path d=\"M120-120v-720h720v720H120Zm60-500h600v-160H180v160Zm220 220h160v-160H400v160Zm0 220h160v-160H400v160ZM180-400h160v-160H180v160Zm440 0h160v-160H620v160ZM180-180h160v-160H180v160Zm440 0h160v-160H620v160Z\"/>\n",
              "  </svg>\n",
              "    </button>\n",
              "\n",
              "  <style>\n",
              "    .colab-df-container {\n",
              "      display:flex;\n",
              "      gap: 12px;\n",
              "    }\n",
              "\n",
              "    .colab-df-convert {\n",
              "      background-color: #E8F0FE;\n",
              "      border: none;\n",
              "      border-radius: 50%;\n",
              "      cursor: pointer;\n",
              "      display: none;\n",
              "      fill: #1967D2;\n",
              "      height: 32px;\n",
              "      padding: 0 0 0 0;\n",
              "      width: 32px;\n",
              "    }\n",
              "\n",
              "    .colab-df-convert:hover {\n",
              "      background-color: #E2EBFA;\n",
              "      box-shadow: 0px 1px 2px rgba(60, 64, 67, 0.3), 0px 1px 3px 1px rgba(60, 64, 67, 0.15);\n",
              "      fill: #174EA6;\n",
              "    }\n",
              "\n",
              "    .colab-df-buttons div {\n",
              "      margin-bottom: 4px;\n",
              "    }\n",
              "\n",
              "    [theme=dark] .colab-df-convert {\n",
              "      background-color: #3B4455;\n",
              "      fill: #D2E3FC;\n",
              "    }\n",
              "\n",
              "    [theme=dark] .colab-df-convert:hover {\n",
              "      background-color: #434B5C;\n",
              "      box-shadow: 0px 1px 3px 1px rgba(0, 0, 0, 0.15);\n",
              "      filter: drop-shadow(0px 1px 2px rgba(0, 0, 0, 0.3));\n",
              "      fill: #FFFFFF;\n",
              "    }\n",
              "  </style>\n",
              "\n",
              "    <script>\n",
              "      const buttonEl =\n",
              "        document.querySelector('#df-21095372-83da-4b28-a077-2d4e747bb925 button.colab-df-convert');\n",
              "      buttonEl.style.display =\n",
              "        google.colab.kernel.accessAllowed ? 'block' : 'none';\n",
              "\n",
              "      async function convertToInteractive(key) {\n",
              "        const element = document.querySelector('#df-21095372-83da-4b28-a077-2d4e747bb925');\n",
              "        const dataTable =\n",
              "          await google.colab.kernel.invokeFunction('convertToInteractive',\n",
              "                                                    [key], {});\n",
              "        if (!dataTable) return;\n",
              "\n",
              "        const docLinkHtml = 'Like what you see? Visit the ' +\n",
              "          '<a target=\"_blank\" href=https://colab.research.google.com/notebooks/data_table.ipynb>data table notebook</a>'\n",
              "          + ' to learn more about interactive tables.';\n",
              "        element.innerHTML = '';\n",
              "        dataTable['output_type'] = 'display_data';\n",
              "        await google.colab.output.renderOutput(dataTable, element);\n",
              "        const docLink = document.createElement('div');\n",
              "        docLink.innerHTML = docLinkHtml;\n",
              "        element.appendChild(docLink);\n",
              "      }\n",
              "    </script>\n",
              "  </div>\n",
              "\n",
              "\n",
              "<div id=\"df-dc5bb463-223a-485e-bbd4-88200b3cdfb3\">\n",
              "  <button class=\"colab-df-quickchart\" onclick=\"quickchart('df-dc5bb463-223a-485e-bbd4-88200b3cdfb3')\"\n",
              "            title=\"Suggest charts\"\n",
              "            style=\"display:none;\">\n",
              "\n",
              "<svg xmlns=\"http://www.w3.org/2000/svg\" height=\"24px\"viewBox=\"0 0 24 24\"\n",
              "     width=\"24px\">\n",
              "    <g>\n",
              "        <path d=\"M19 3H5c-1.1 0-2 .9-2 2v14c0 1.1.9 2 2 2h14c1.1 0 2-.9 2-2V5c0-1.1-.9-2-2-2zM9 17H7v-7h2v7zm4 0h-2V7h2v10zm4 0h-2v-4h2v4z\"/>\n",
              "    </g>\n",
              "</svg>\n",
              "  </button>\n",
              "\n",
              "<style>\n",
              "  .colab-df-quickchart {\n",
              "      --bg-color: #E8F0FE;\n",
              "      --fill-color: #1967D2;\n",
              "      --hover-bg-color: #E2EBFA;\n",
              "      --hover-fill-color: #174EA6;\n",
              "      --disabled-fill-color: #AAA;\n",
              "      --disabled-bg-color: #DDD;\n",
              "  }\n",
              "\n",
              "  [theme=dark] .colab-df-quickchart {\n",
              "      --bg-color: #3B4455;\n",
              "      --fill-color: #D2E3FC;\n",
              "      --hover-bg-color: #434B5C;\n",
              "      --hover-fill-color: #FFFFFF;\n",
              "      --disabled-bg-color: #3B4455;\n",
              "      --disabled-fill-color: #666;\n",
              "  }\n",
              "\n",
              "  .colab-df-quickchart {\n",
              "    background-color: var(--bg-color);\n",
              "    border: none;\n",
              "    border-radius: 50%;\n",
              "    cursor: pointer;\n",
              "    display: none;\n",
              "    fill: var(--fill-color);\n",
              "    height: 32px;\n",
              "    padding: 0;\n",
              "    width: 32px;\n",
              "  }\n",
              "\n",
              "  .colab-df-quickchart:hover {\n",
              "    background-color: var(--hover-bg-color);\n",
              "    box-shadow: 0 1px 2px rgba(60, 64, 67, 0.3), 0 1px 3px 1px rgba(60, 64, 67, 0.15);\n",
              "    fill: var(--button-hover-fill-color);\n",
              "  }\n",
              "\n",
              "  .colab-df-quickchart-complete:disabled,\n",
              "  .colab-df-quickchart-complete:disabled:hover {\n",
              "    background-color: var(--disabled-bg-color);\n",
              "    fill: var(--disabled-fill-color);\n",
              "    box-shadow: none;\n",
              "  }\n",
              "\n",
              "  .colab-df-spinner {\n",
              "    border: 2px solid var(--fill-color);\n",
              "    border-color: transparent;\n",
              "    border-bottom-color: var(--fill-color);\n",
              "    animation:\n",
              "      spin 1s steps(1) infinite;\n",
              "  }\n",
              "\n",
              "  @keyframes spin {\n",
              "    0% {\n",
              "      border-color: transparent;\n",
              "      border-bottom-color: var(--fill-color);\n",
              "      border-left-color: var(--fill-color);\n",
              "    }\n",
              "    20% {\n",
              "      border-color: transparent;\n",
              "      border-left-color: var(--fill-color);\n",
              "      border-top-color: var(--fill-color);\n",
              "    }\n",
              "    30% {\n",
              "      border-color: transparent;\n",
              "      border-left-color: var(--fill-color);\n",
              "      border-top-color: var(--fill-color);\n",
              "      border-right-color: var(--fill-color);\n",
              "    }\n",
              "    40% {\n",
              "      border-color: transparent;\n",
              "      border-right-color: var(--fill-color);\n",
              "      border-top-color: var(--fill-color);\n",
              "    }\n",
              "    60% {\n",
              "      border-color: transparent;\n",
              "      border-right-color: var(--fill-color);\n",
              "    }\n",
              "    80% {\n",
              "      border-color: transparent;\n",
              "      border-right-color: var(--fill-color);\n",
              "      border-bottom-color: var(--fill-color);\n",
              "    }\n",
              "    90% {\n",
              "      border-color: transparent;\n",
              "      border-bottom-color: var(--fill-color);\n",
              "    }\n",
              "  }\n",
              "</style>\n",
              "\n",
              "  <script>\n",
              "    async function quickchart(key) {\n",
              "      const quickchartButtonEl =\n",
              "        document.querySelector('#' + key + ' button');\n",
              "      quickchartButtonEl.disabled = true;  // To prevent multiple clicks.\n",
              "      quickchartButtonEl.classList.add('colab-df-spinner');\n",
              "      try {\n",
              "        const charts = await google.colab.kernel.invokeFunction(\n",
              "            'suggestCharts', [key], {});\n",
              "      } catch (error) {\n",
              "        console.error('Error during call to suggestCharts:', error);\n",
              "      }\n",
              "      quickchartButtonEl.classList.remove('colab-df-spinner');\n",
              "      quickchartButtonEl.classList.add('colab-df-quickchart-complete');\n",
              "    }\n",
              "    (() => {\n",
              "      let quickchartButtonEl =\n",
              "        document.querySelector('#df-dc5bb463-223a-485e-bbd4-88200b3cdfb3 button');\n",
              "      quickchartButtonEl.style.display =\n",
              "        google.colab.kernel.accessAllowed ? 'block' : 'none';\n",
              "    })();\n",
              "  </script>\n",
              "</div>\n",
              "\n",
              "    </div>\n",
              "  </div>\n"
            ],
            "application/vnd.google.colaboratory.intrinsic+json": {
              "type": "dataframe",
              "variable_name": "df",
              "summary": "{\n  \"name\": \"df\",\n  \"rows\": 1436,\n  \"fields\": [\n    {\n      \"column\": \"Unnamed: 0\",\n      \"properties\": {\n        \"dtype\": \"number\",\n        \"std\": 1673,\n        \"min\": 3,\n        \"max\": 5741,\n        \"num_unique_values\": 1436,\n        \"samples\": [\n          1789,\n          1558,\n          5400\n        ],\n        \"semantic_type\": \"\",\n        \"description\": \"\"\n      }\n    },\n    {\n      \"column\": \"text\",\n      \"properties\": {\n        \"dtype\": \"string\",\n        \"num_unique_values\": 1431,\n        \"samples\": [\n          \"She titrates her own EPO, given a similar episode of severe symptomatic anemia. \",\n          \"**] may have increased her Lithium level in setting of [**Last Name (un) **]. \",\n          \"You should restart Coumadin at a lower dose of 1.5mg daily.  \"\n        ],\n        \"semantic_type\": \"\",\n        \"description\": \"\"\n      }\n    },\n    {\n      \"column\": \"answer\",\n      \"properties\": {\n        \"dtype\": \"string\",\n        \"num_unique_values\": 1129,\n        \"samples\": [\n          \"{'DRUG': ['Klonopin']}\",\n          \"{'DRUG': ['Atorvostatin', 'Metoprolol', 'Aspirin', 'Lansoprazole', 'Scopolamine', 'Ciprofloxacin'], 'STRENGTH': ['20 mg', '12.5 mg', '81 mg', '30 mg', '500 mg'], 'ROUTE': ['p.o.', 'p.o.', 'p.o.', 'transdermal', 'p.o.'], 'FREQUENCY': ['q.d. 2', 'b.i.d. 3', 'q.d. 4', 'q. 72 hours', 'q. 12 hours'], 'FORM': ['patch'], 'DURATION': ['14 day']}\",\n          \"{'DRUG': ['Humalog'], 'STRENGTH': ['100 unit/mL'], 'FORM': ['Solution'], 'DOSAGE': ['sliding scale'], 'ROUTE': ['Subcutaneous'], 'FREQUENCY': ['Breakfast, Lunch, Dinner and Bedtime']}\"\n        ],\n        \"semantic_type\": \"\",\n        \"description\": \"\"\n      }\n    }\n  ]\n}"
            }
          },
          "metadata": {},
          "execution_count": 60
        }
      ]
    },
    {
      "cell_type": "markdown",
      "source": [
        "#Answer Format Transformation\n",
        "converting the answer into the given format in the assignement"
      ],
      "metadata": {
        "id": "vFUBc8fi1cxP"
      }
    },
    {
      "cell_type": "code",
      "source": [
        "import ast"
      ],
      "metadata": {
        "id": "_Jir-y-u59wY"
      },
      "execution_count": 61,
      "outputs": []
    },
    {
      "cell_type": "code",
      "source": [
        "data= df.answer"
      ],
      "metadata": {
        "id": "E1ojIhcP8UEd"
      },
      "execution_count": 123,
      "outputs": []
    },
    {
      "cell_type": "code",
      "source": [
        "df2= pd.DataFrame(data)"
      ],
      "metadata": {
        "id": "cykxjm_M8W1k"
      },
      "execution_count": 124,
      "outputs": []
    },
    {
      "cell_type": "code",
      "source": [
        "def convert_to_dict(string):\n",
        "    try:\n",
        "        return ast.literal_eval(string)\n",
        "    except (SyntaxError, ValueError):\n",
        "        return None  # Return None for invalid entries\n"
      ],
      "metadata": {
        "id": "ihIHMdP66AHL"
      },
      "execution_count": 125,
      "outputs": []
    },
    {
      "cell_type": "code",
      "source": [
        "df2['answer'] = df2['answer'].apply(convert_to_dict)"
      ],
      "metadata": {
        "id": "0wfRD4Cb6DxT"
      },
      "execution_count": 126,
      "outputs": []
    },
    {
      "cell_type": "code",
      "source": [
        "def handle_tuples(tuples_list):\n",
        "    new_dict = {}\n",
        "    for tup in tuples_list:\n",
        "        key, value = tup\n",
        "        new_dict[value] = [key]  # Reversed key and value\n",
        "    return new_dict\n"
      ],
      "metadata": {
        "id": "brspQBQ2_vd1"
      },
      "execution_count": 127,
      "outputs": []
    },
    {
      "cell_type": "code",
      "source": [
        "df2['answer'] = df2['answer'].apply(lambda x: dict(x) if isinstance(x, list) else x)\n",
        "non_dict_indices = df2[df2['answer'].apply(lambda x: not isinstance(x, dict))].index\n",
        "df2.loc[non_dict_indices, 'answer'] = df2.loc[non_dict_indices, 'answer'].apply(handle_tuples)"
      ],
      "metadata": {
        "id": "lCacCLQi8hTI"
      },
      "execution_count": 128,
      "outputs": []
    },
    {
      "cell_type": "code",
      "source": [
        "def transform_to_desired_format(d):\n",
        "    return ' / '.join([f\"{k}: {'; '.join(v)}\" for k, v in d.items()])\n"
      ],
      "metadata": {
        "id": "oDpdjLS0_KqR"
      },
      "execution_count": 129,
      "outputs": []
    },
    {
      "cell_type": "code",
      "source": [
        "df2['vector'] = df2['answer'].apply(transform_to_desired_format)"
      ],
      "metadata": {
        "id": "fS5hKImaAA13"
      },
      "execution_count": 130,
      "outputs": []
    },
    {
      "cell_type": "code",
      "source": [
        "transformed_answer = df2['vector']"
      ],
      "metadata": {
        "id": "zdMMkJHACEQ1"
      },
      "execution_count": 133,
      "outputs": []
    },
    {
      "cell_type": "code",
      "source": [
        "df['transformed_format_answer']= transformed_answer"
      ],
      "metadata": {
        "id": "eR0_fYECCPkS"
      },
      "execution_count": 136,
      "outputs": []
    },
    {
      "cell_type": "code",
      "source": [
        "df.to_csv('test_with_entities_NER_SPACY.csv')"
      ],
      "metadata": {
        "id": "Qhe4tLuvCY5s"
      },
      "execution_count": 142,
      "outputs": []
    },
    {
      "cell_type": "code",
      "source": [
        "df.to_parquet('test_with_entities_NER_SPACY.parquet')"
      ],
      "metadata": {
        "id": "sAtGt8ToCysn"
      },
      "execution_count": 143,
      "outputs": []
    }
  ]
}